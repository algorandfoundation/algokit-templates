{
 "cells": [
  {
   "cell_type": "code",
   "execution_count": null,
   "metadata": {},
   "outputs": [],
   "source": [
    "import logging\n",
    "from time import sleep\n",
    "\n",
    "from algokit_utils import (\n",
    "    AlgoAmount,\n",
    "    AlgorandClient,\n",
    "    AssetCreateParams,\n",
    "    AssetOptInParams,\n",
    "    AssetTransferParams,\n",
    "    PaymentParams,\n",
    ")\n",
    "from algokit_utils.config import config\n",
    "from dotenv import load_dotenv"
   ]
  },
  {
   "cell_type": "code",
   "execution_count": null,
   "metadata": {},
   "outputs": [],
   "source": [
    "# Configure Utils and Logging\n",
    "config.configure(populate_app_call_resources=True)\n",
    "\n",
    "# Set up logging and load environment variables\n",
    "logging.basicConfig(\n",
    "    level=logging.DEBUG, format=\"%(asctime)s %(levelname)-10s: %(message)s\"\n",
    ")\n",
    "logger = logging.getLogger(__name__)\n",
    "load_dotenv()"
   ]
  },
  {
   "cell_type": "markdown",
   "metadata": {},
   "source": [
    "# Initialize the Algorand Client"
   ]
  },
  {
   "cell_type": "code",
   "execution_count": null,
   "metadata": {},
   "outputs": [],
   "source": [
    "# Initialize an Algorand Client that will be used to interact with the chain\n",
    "# For learning and development, use LocalNet so that you can reset the chain\n",
    "# as needed and have access to the genesis accounts with all 10B Algo\n",
    "algorand = AlgorandClient.default_localnet()"
   ]
  },
  {
   "cell_type": "markdown",
   "metadata": {},
   "source": [
    "# Create Localnet Accounts"
   ]
  },
  {
   "cell_type": "code",
   "execution_count": null,
   "metadata": {},
   "outputs": [],
   "source": [
    "# Create two LocalNet accounts, Alice and Bob, funded with 100 Algos each\n",
    "alice = algorand.account.from_environment(\"ALICE\", AlgoAmount(algo=100))\n",
    "bob = algorand.account.from_environment(\"BOB\", AlgoAmount(algo=100))\n",
    "print(\n",
    "    f\"\\nAlice's generated account address: {alice.address}. \\nView her account on Lora at https://lora.algokit.io/localnet/account/{alice.address}.\"\n",
    ")\n",
    "print(\n",
    "    f\"\\nBob's generated account address: {bob.address}. \\nView his account on Lora at https://lora.algokit.io/localnet/account/{bob.address}.\"\n",
    ")"
   ]
  },
  {
   "cell_type": "markdown",
   "metadata": {},
   "source": [
    "# Send Payment Transaction"
   ]
  },
  {
   "cell_type": "code",
   "execution_count": null,
   "metadata": {},
   "outputs": [],
   "source": [
    "# Alice sends an Algo payment transaction to Bob\n",
    "pay_result = algorand.send.payment(\n",
    "    PaymentParams(\n",
    "        sender=alice.address,\n",
    "        receiver=bob.address,\n",
    "        amount=AlgoAmount(\n",
    "            algo=2\n",
    "        ),  # The AlgoAmount class is a helper to be explicit about amounts between microAlgos and Algos\n",
    "        note=b\"Hi, Bob!\",\n",
    "    )\n",
    ")\n",
    "print(\n",
    "    f\"\\nPay transaction confirmed with TxnID: {pay_result.tx_id}. \\nView it on Lora at https://lora.algokit.io/localnet/transaction/{pay_result.tx_id}.\"\n",
    ")"
   ]
  },
  {
   "cell_type": "markdown",
   "metadata": {},
   "source": [
    "# Create Algorand Standard Asset (ASA)"
   ]
  },
  {
   "cell_type": "code",
   "execution_count": null,
   "metadata": {},
   "outputs": [],
   "source": [
    "# See the docs to learn which parameters are (im)mutable:\n",
    "# https://dev.algorand.co/concepts/assets/overview/\n",
    "create_asset_result = algorand.send.asset_create(\n",
    "    AssetCreateParams(\n",
    "        sender=alice.address,\n",
    "        asset_name=\"My First ASA\",  # A human-readable name for the asset\n",
    "        unit_name=\"MFA\",  # A short ticker; this is not a unique identifier\n",
    "        total=1_000_000_000_000,  # The true supply of indivisible units\n",
    "        decimals=6,  # Used for displaying the asset amount off chain\n",
    "        default_frozen=False,  # This asset can be transferred freely\n",
    "        manager=alice.address,  # Account that can change the asset's config\n",
    "        reserve=alice.address,  # Account to hold non-circulating supply\n",
    "        freeze=alice.address,  # Account that can freeze asset holdings\n",
    "        clawback=alice.address,  # Account that can revoke asset holdings\n",
    "        url=\"https://algorand.co/algokit\",  # Often used to point to metadata\n",
    "        note=b\"This is my first Algorand Standard Asset!\",\n",
    "    )\n",
    ")\n",
    "\n",
    "# Store the Asset ID Alice created in a variable for later use in the script\n",
    "# This UInt64 Asset ID is a unique identifier for the asset on the chain\n",
    "created_asset = create_asset_result.asset_id\n",
    "print(\n",
    "    f\"\\nAsset ID {created_asset} create transaction confirmed with TxnID: {create_asset_result.tx_id}.\"\n",
    ")\n",
    "print(\n",
    "    f\"\\nView it on Lora at https://lora.algokit.io/localnet/asset/{created_asset}.\"\n",
    ")"
   ]
  },
  {
   "cell_type": "markdown",
   "metadata": {},
   "source": [
    "# Get ASA Information"
   ]
  },
  {
   "cell_type": "code",
   "execution_count": null,
   "metadata": {},
   "outputs": [],
   "source": [
    "# Get ASA information from algod's /v2/assets REST API endpoint\n",
    "# The response will contain all of the asset's current parameters\n",
    "asset_info = algorand.asset.get_by_id(created_asset)\n",
    "print(\n",
    "    f\"\\nAsset information from algod's /v2/assets/{{asset-id}} REST API endpoint: {asset_info}.\"\n",
    ")\n",
    "print(\n",
    "    \"\\nLearn about and explore the algod REST API at https://dev.algorand.co/reference/rest-api/overview/#algod-rest-endpoints.\"\n",
    ")\n"
   ]
  },
  {
   "cell_type": "markdown",
   "metadata": {},
   "source": [
    "# Opt into ASA"
   ]
  },
  {
   "cell_type": "code",
   "execution_count": null,
   "metadata": {},
   "outputs": [],
   "source": [
    "# Bob opts in to the ASA so that he will be able to hold it\n",
    "bob_opt_in_result = algorand.send.asset_opt_in(\n",
    "    AssetOptInParams(\n",
    "        sender=bob.address,\n",
    "        asset_id=created_asset,\n",
    "    )\n",
    ")\n",
    "print(\n",
    "    f\"\\nAsset opt-in transaction confirmed with TxnID: {bob_opt_in_result.tx_id}. \\nView it on Lora at https://lora.algokit.io/localnet/transaction/{bob_opt_in_result.tx_id}.\"\n",
    ")"
   ]
  },
  {
   "cell_type": "markdown",
   "metadata": {},
   "source": [
    "# Send ASA"
   ]
  },
  {
   "cell_type": "code",
   "execution_count": null,
   "metadata": {},
   "outputs": [],
   "source": [
    "# Alice sends some of the ASA to Bob\n",
    "send_asset_result = algorand.send.asset_transfer(\n",
    "    AssetTransferParams(\n",
    "        sender=alice.address,\n",
    "        receiver=bob.address,\n",
    "        asset_id=created_asset,\n",
    "        amount=3_000_000,  # The amount is in the smallest unit of the asset\n",
    "        note=b\"Have a few of my first ASA!\",\n",
    "    )\n",
    ")\n",
    "print(\n",
    "    f\"\\nAsset transfer transaction confirmed with TxnID: {send_asset_result.tx_id}. \\nView it on Lora at https://lora.algokit.io/localnet/transaction/{send_asset_result.tx_id}.\"\n",
    ")"
   ]
  },
  {
   "cell_type": "markdown",
   "metadata": {},
   "source": [
    "# Get Account Information"
   ]
  },
  {
   "cell_type": "code",
   "execution_count": null,
   "metadata": {},
   "outputs": [],
   "source": [
    "# Get Bob's account information\n",
    "# This will include all of the current ledger state for Bob's account,\n",
    "# including Algo balance, asset balances with some asset information,\n",
    "# as well as application-related information like local state, and more.\n",
    "bob_account_info = algorand.account.get_information(bob.address)\n",
    "print(\n",
    "    f\"\\nBob's account information from algod's /v2/accounts/{{address}} REST API endpoint: \\n{bob_account_info}.\"\n",
    ")\n",
    "print(\n",
    "    \"\\nLearn about and explore the algod REST API at https://dev.algorand.co/reference/rest-api/overview/#algod-rest-endpoints.\"\n",
    ")"
   ]
  },
  {
   "cell_type": "markdown",
   "metadata": {},
   "source": [
    "# Build Atomic Transaction Group"
   ]
  },
  {
   "cell_type": "code",
   "execution_count": null,
   "metadata": {},
   "outputs": [],
   "source": [
    "# Build an atomic transaction group with two transactions\n",
    "# Utils provides this fluent way of chaining method calls to build the group\n",
    "# rather than using the SDK to create transactions and manually group them.\n",
    "# These transactions will be either confirmed or rejected together.\n",
    "group_result = (\n",
    "    algorand.send.new_group()\n",
    "    .add_payment(\n",
    "        PaymentParams(\n",
    "            sender=bob.address,\n",
    "            receiver=alice.address,\n",
    "            amount=AlgoAmount(algo=1),\n",
    "            note=b\"Thanks, Alice!\",\n",
    "        )\n",
    "    )\n",
    "    .add_asset_transfer(\n",
    "        AssetTransferParams(\n",
    "            sender=bob.address,\n",
    "            receiver=alice.address,\n",
    "            asset_id=created_asset,\n",
    "            amount=1_000_000,\n",
    "            note=b\"Sending back one of your token!\",\n",
    "        )\n",
    "    )\n",
    ").send()\n",
    "print(\n",
    "    f\"\\nAtomic transaction group confirmed with first TxnID: {group_result.tx_ids[0]}. \\nView it on Lora at https://lora.algokit.io/localnet/transaction/{group_result.tx_ids[0]}.\"\n",
    ")"
   ]
  },
  {
   "cell_type": "markdown",
   "metadata": {},
   "source": [
    "# Get Transaction Information From Indexer"
   ]
  },
  {
   "cell_type": "code",
   "execution_count": null,
   "metadata": {},
   "outputs": [],
   "source": [
    "# Search the indexer for the asset transfer transactions\n",
    "# We add a short delay here because indexer can be a bit slow on LocalNet.\n",
    "# Engineering will be working on improving this in the future.\n",
    "print(\n",
    "    \"\\nSleeping for 30 seconds to let the LocalNet indexer to catch up, which can sometimes take a moment.\"\n",
    ")\n",
    "sleep(30)\n",
    "\n",
    "# Here the AlgorandClient exposes the underlying SDK indexer client to build\n",
    "# the query with various parameters. Be mindful of how broad the query is\n",
    "# to avoid long-running requests or needing to page through many results.\n",
    "transfer_search_results = algorand.client.indexer.search_transactions(\n",
    "    asset_id=created_asset,\n",
    "    txn_type=\"axfer\",\n",
    ")\n",
    "found_txn_ids = [txn[\"id\"] for txn in transfer_search_results[\"transactions\"]]\n",
    "print(\n",
    "    f\"\\nAsset transfer transaction IDs found by searching the indexer: {found_txn_ids}.\"\n",
    ")\n",
    "print(\n",
    "    \"\\nLearn about and explore the indexer REST API at https://dev.algorand.co/reference/rest-api/overview/#indexer-rest-endpoints.\"\n",
    ")\n",
    "print(\"🙌 Congrats on interacting with the Algorand chain with Python!\")\n"
   ]
  }
 ],
 "metadata": {
  "language_info": {
   "name": "python"
  }
 },
 "nbformat": 4,
 "nbformat_minor": 2
}

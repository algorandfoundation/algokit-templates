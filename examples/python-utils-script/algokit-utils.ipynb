{
 "cells": [
  {
   "cell_type": "code",
   "execution_count": null,
   "metadata": {
    "vscode": {
     "languageId": "plaintext"
    }
   },
   "outputs": [],
   "source": [
    "import logging\n",
    "from algokit_utils.config import config\n",
    "from algokit_utils import AlgoAmount, AlgorandClient, PaymentParams\n",
    "from dotenv import load_dotenv"
   ]
  },
  {
   "cell_type": "code",
   "execution_count": null,
   "metadata": {
    "vscode": {
     "languageId": "plaintext"
    }
   },
   "outputs": [],
   "source": [
    "# Configure Utils and Logging\n",
    "config.configure(populate_app_call_resources=True)\n",
    "\n",
    "# Set up logging and load environment variables\n",
    "logging.basicConfig(\n",
    "    level=logging.DEBUG, format=\"%(asctime)s %(levelname)-10s: %(message)s\"\n",
    ")\n",
    "logger = logging.getLogger(__name__)\n",
    "logger.info(\"Loading .env\")\n",
    "load_dotenv()"
   ]
  },
  {
   "cell_type": "markdown",
   "metadata": {},
   "source": [
    "# Transaction Example"
   ]
  },
  {
   "cell_type": "code",
   "execution_count": null,
   "metadata": {
    "vscode": {
     "languageId": "plaintext"
    }
   },
   "outputs": [],
   "source": [
    "algorand = AlgorandClient.from_environment()\n",
    "alice = algorand.account.from_environment(\"ALICE\", AlgoAmount(algo=100))\n",
    "bob = algorand.account.from_environment(\"BOB\", AlgoAmount(algo=100))\n",
    "\n",
    "pay_result = algorand.send.payment(\n",
    "    PaymentParams(\n",
    "        sender=alice.address,\n",
    "        receiver=bob.address,\n",
    "        amount=AlgoAmount(algo=2),\n",
    "        note=b\"Thanks, Bob!\"\n",
    "        )\n",
    "    )\n",
    "print(f\"Transaction confirmed with ID: {pay_result.tx_id}\")"
   ]
  }
 ],
 "metadata": {
  "language_info": {
   "name": "python"
  }
 },
 "nbformat": 4,
 "nbformat_minor": 2
}
